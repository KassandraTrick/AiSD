{
 "cells": [
  {
   "cell_type": "markdown",
   "metadata": {
    "id": "C6wjazUp8s82"
   },
   "source": [
    "1) Создать скрипт для анализа тестовых файлов - сбора статистики упоминания слов. Аргументом командной строки является имя файла, который нужно проанализировать. Второй аргумент - количество слов, которые нужно выводить на экран (если аргумент не указан, то выводим статистику по 100 словам, статистика выводится в порядке убывания частоты слов, по каждому слову на экран выводится строка в формате \"<слово> <частота>\"). Если второй аргумент не целое число, то его рассматриваем как имя файла, в который в формате CSV с заголовком сохраняем статистику слов (Первый столбец - слово, второй столбце - частота)."
   ]
  },
  {
   "cell_type": "code",
   "execution_count": null,
   "metadata": {
    "colab": {
     "base_uri": "https://localhost:8080/",
     "height": 216
    },
    "id": "cq1N4tlA8mac",
    "outputId": "e2d54f18-1e95-4c45-e688-88d02099c58d"
   },
   "outputs": [
    {
     "ename": "FileNotFoundError",
     "evalue": "[Errno 2] No such file or directory: '-f'",
     "output_type": "error",
     "traceback": [
      "\u001b[0;31m---------------------------------------------------------------------------\u001b[0m",
      "\u001b[0;31mFileNotFoundError\u001b[0m                         Traceback (most recent call last)",
      "\u001b[0;32m<ipython-input-4-73f742e75c64>\u001b[0m in \u001b[0;36m<cell line: 5>\u001b[0;34m()\u001b[0m\n\u001b[1;32m      3\u001b[0m \u001b[0margs\u001b[0m \u001b[0;34m=\u001b[0m \u001b[0msys\u001b[0m\u001b[0;34m.\u001b[0m\u001b[0margv\u001b[0m\u001b[0;34m\u001b[0m\u001b[0;34m\u001b[0m\u001b[0m\n\u001b[1;32m      4\u001b[0m \u001b[0;34m\u001b[0m\u001b[0m\n\u001b[0;32m----> 5\u001b[0;31m \u001b[0mf\u001b[0m \u001b[0;34m=\u001b[0m \u001b[0mopen\u001b[0m\u001b[0;34m(\u001b[0m\u001b[0margs\u001b[0m\u001b[0;34m[\u001b[0m\u001b[0;36m1\u001b[0m\u001b[0;34m]\u001b[0m\u001b[0;34m)\u001b[0m\u001b[0;34m.\u001b[0m\u001b[0mread\u001b[0m\u001b[0;34m(\u001b[0m\u001b[0;34m)\u001b[0m\u001b[0;34m.\u001b[0m\u001b[0mreplace\u001b[0m\u001b[0;34m(\u001b[0m\u001b[0;34m','\u001b[0m\u001b[0;34m,\u001b[0m \u001b[0;34m' '\u001b[0m\u001b[0;34m)\u001b[0m\u001b[0;34m.\u001b[0m\u001b[0mreplace\u001b[0m\u001b[0;34m(\u001b[0m\u001b[0;34m'.'\u001b[0m\u001b[0;34m,\u001b[0m \u001b[0;34m' '\u001b[0m\u001b[0;34m)\u001b[0m\u001b[0;34m.\u001b[0m\u001b[0mreplace\u001b[0m\u001b[0;34m(\u001b[0m\u001b[0;34m'!'\u001b[0m\u001b[0;34m,\u001b[0m\u001b[0;34m' '\u001b[0m\u001b[0;34m)\u001b[0m\u001b[0;34m.\u001b[0m\u001b[0mreplace\u001b[0m\u001b[0;34m(\u001b[0m\u001b[0;34m'?'\u001b[0m\u001b[0;34m,\u001b[0m \u001b[0;34m' '\u001b[0m\u001b[0;34m)\u001b[0m\u001b[0;34m\u001b[0m\u001b[0;34m\u001b[0m\u001b[0m\n\u001b[0m\u001b[1;32m      6\u001b[0m \u001b[0;32mtry\u001b[0m\u001b[0;34m:\u001b[0m\u001b[0;34m\u001b[0m\u001b[0;34m\u001b[0m\u001b[0m\n\u001b[1;32m      7\u001b[0m     \u001b[0mcount_words\u001b[0m \u001b[0;34m=\u001b[0m \u001b[0margs\u001b[0m\u001b[0;34m[\u001b[0m\u001b[0;36m2\u001b[0m\u001b[0;34m]\u001b[0m\u001b[0;34m\u001b[0m\u001b[0;34m\u001b[0m\u001b[0m\n",
      "\u001b[0;31mFileNotFoundError\u001b[0m: [Errno 2] No such file or directory: '-f'"
     ]
    }
   ],
   "source": [
    "import csv\n",
    "import sys\n",
    "args = sys.argv\n",
    "try:\n",
    "    f = open(args[1]).read().replace(',', ' ').replace('.', ' ').replace('!',' ').replace('?', ' ').replace('/', ' ').replace('\"', ' ').replace(\"'\", ' ').replace(':', ' ')\n",
    "except FileNotFoundError:\n",
    "    raise FileNotFoundError('Ошибка при загрузке файла')\n",
    "try:\n",
    "    count_words = args[2]\n",
    "except IndexError:\n",
    "    count_words = ''\n",
    "res_path = None\n",
    "if count_words != '':\n",
    "    try:\n",
    "        count_words = int(count_words)\n",
    "    except ValueError:\n",
    "        res_path = count_words\n",
    "        count_words = len(f.split())\n",
    "else:\n",
    "    count_words = 100\n",
    "ans = dict()\n",
    "for word in f.split():\n",
    "    try:\n",
    "        key = ans[word]\n",
    "    except KeyError:\n",
    "        ans[word] = f.split().count(word)\n",
    "    if len(ans.keys()) == count_words:\n",
    "        break\n",
    "sortedans = sorted(ans.items(), key=lambda item: item[1], reverse=True)\n",
    "ans = dict()\n",
    "for el in sortedans:\n",
    "    ans[elem[0]] = elem[1]\n",
    "if res_path is not None:\n",
    "    with open(str(res_path)+'.csv', 'w+') as csv_file:\n",
    "        for key, value in ans.items():\n",
    "            csv.writer(csv_file).writerow([key, value])\n",
    "print(ans)\n"
   ]
  },
  {
   "cell_type": "markdown",
   "metadata": {
    "id": "ct-tfol78zGR"
   },
   "source": [
    "2) Создать скрипт, которому в командной строке передаются имена файлов. В файлах в формате CSV с заголовком содержится информация о частоте слов: первый столбец - слово, второй столбце - частота. Выполнить агрегацию информации о частоте слов из всех переданных файлов (т.е. рассчитать суммарную частоту для всех упомянутых слов). Результат сохранить в файл с именем, которое введет пользователь в ответ на соответствующий запрос.\n",
    "\n",
    "2.1) Скрипт должен адекватно реагировать на ситуацию отсутствия файлов и другие проблемы с вводом/выводом.\n"
   ]
  },
  {
   "cell_type": "code",
   "execution_count": 1,
   "metadata": {
    "colab": {
     "base_uri": "https://localhost:8080/"
    },
    "id": "i8AReeTstQdA",
    "outputId": "fc1b1bb6-9f08-47da-e544-3fd56af9fcf7"
   },
   "outputs": [
    {
     "name": "stdout",
     "output_type": "stream",
     "text": [
      "Такого файла нет в директории\n"
     ]
    }
   ],
   "source": []
  },
  {
   "cell_type": "markdown",
   "metadata": {
    "id": "b5IMhhnA87sr"
   },
   "source": [
    "2.2) Оформить модуль с функциями, которые используются в задании 1 и 2."
   ]
  },
  {
   "cell_type": "code",
   "execution_count": null,
   "metadata": {
    "id": "cnv2whhatP-C"
   },
   "outputs": [],
   "source": []
  },
  {
   "cell_type": "markdown",
   "metadata": {
    "id": "4YjnWrch8_tm"
   },
   "source": [
    "3.1) Написать программу, которая запускается из консоли и считает сумму переданных в неё чисел"
   ]
  },
  {
   "cell_type": "markdown",
   "metadata": {
    "id": "WxNUMuJe9CI7"
   },
   "source": [
    "3.2) Добавить в эту программу произведение\n",
    "\n",
    "3.3) По переданному параметру считать либо сумму, либо произведение"
   ]
  },
  {
   "cell_type": "code",
   "execution_count": null,
   "metadata": {
    "id": "UfPYesiX9CW2"
   },
   "outputs": [],
   "source": [
    "import sys\n",
    "\n",
    "\n",
    "def sumnum(n):\n",
    "    sumnum = 0.0\n",
    "    for el in n:\n",
    "        try:\n",
    "            sumnum += float(el)\n",
    "        except:\n",
    "            raise ValueError('Не все переданные значения числа')\n",
    "    return sumnum\n",
    "\n",
    "\n",
    "def multnum(n):\n",
    "    multnum\n",
    "    for el in n:\n",
    "        try:\n",
    "            multnum *= float(el)\n",
    "        except:\n",
    "            raise ValueError('Не все переданные значения числа')\n",
    "    return multnum\n",
    "\n",
    "def main():\n",
    "    if len(sys.argv) < 2:\n",
    "        raise SystemExit('Указано неверное количество аргументов')\n",
    "    if sys.argv[1] == 's':\n",
    "        print(sumnum(sys.argv[2:]))\n",
    "    elif sys.argv[1] == 'm':\n",
    "        print(multnum(sys.argv[2:]))\n",
    "    else:\n",
    "        print('Выбран неверный режим работы скрипта')"
   ]
  },
  {
   "cell_type": "markdown",
   "metadata": {
    "id": "fmFFQMWa9HIi"
   },
   "source": [
    "3.4) Оформить это дополнительный модуль."
   ]
  },
  {
   "cell_type": "markdown",
   "metadata": {
    "id": "G3XQJKzUwBj1"
   },
   "source": [
    "4) Реализовать модуль calculate.py, содержащий набор функций для работы с целыми числами, записанными как на русском языке (например: тридцать восемь), так и в виде простых арифметических выражений (например: 2 + 3)."
   ]
  },
  {
   "cell_type": "code",
   "execution_count": null,
   "metadata": {
    "id": "lAxwm4-pwJ_s"
   },
   "outputs": [],
   "source": [
    "def rev(sl):\n",
    "    d1 = []\n",
    "    for el in sl:\n",
    "        d1.append((sl.get(el), el))\n",
    "    return dict(d1)\n",
    "def text_to_numb(text):\n",
    "    n = ''\n",
    "    for cifra in text:\n",
    "        if cifra in des1:\n",
    "            n = des1.get(cifra)\n",
    "        elif cifra in des2:\n",
    "            n = des2.get(cifra)\n",
    "            if len(text) == 1:\n",
    "                n += '0'\n",
    "        elif cifra in ed:\n",
    "           n += ed.get(cifra)\n",
    "    return n\n",
    "def calc(s):\n",
    "    cmd = ''\n",
    "    k = False\n",
    "    for i in range(len(s)):\n",
    "        if not k:\n",
    "            if s[i] == 'скобка':\n",
    "                if s[i+1] == \"открывается\":\n",
    "                    cmd += \"(\"\n",
    "                elif s[i+1] == \"закрывается\":\n",
    "                    cmd += \")\"\n",
    "                k = True\n",
    "            elif s[i] in d:\n",
    "                cmd += d.get(s[i])\n",
    "            elif s[i] in ed or s[i] in des1:\n",
    "                cmd += text_to_numb([s[i]])\n",
    "            elif s[i] in des2:\n",
    "                if len(s) - 1 != i:\n",
    "                    if s[i+1] in ed:\n",
    "                        cmd += text_to_numb([s[i], s[i+1]])\n",
    "                        k = True\n",
    "                else:\n",
    "                    x = text_to_numb([s[i]])\n",
    "                    cmd+= x\n",
    "        else:\n",
    "            k = False\n",
    "    cmd = str(eval(cmd))\n",
    "    k = False #Смотри про десятки\n",
    "    ans = '' #Создаем переменную, которую будем в конце возвращать\n",
    "    for i in range(len(cmd)): #Мы будем проверять каждый символ полученного слова\n",
    "        cifra = cmd[i] #Для удобства его обозначим в переменную \"цифра\"\n",
    "        if cifra == '-':#Если символ минус... суём в ответ минус\n",
    "            ans = 'минус '\n",
    "        if len(cmd) - i == 4:#Если символ занимает четвёртую позицию - то это тысячи, для них расписываем случам\n",
    "            if int(cifra) == 1: #Как бы единица и двойка - исключения, у них там слова меняются (не один тысяча или два тысяч) а вот так\n",
    "                ans += 'одна тысяча '\n",
    "            elif int(cifra) == 2:\n",
    "                ans += 'две тысячи '\n",
    "            elif 2 < int(cifra) < 5:#Остальные случаи я думаю тут понятны\n",
    "                ans = rev(ed).get(cifra)\n",
    "                ans += ' тысячи '\n",
    "            else:\n",
    "                ans += rev(ed).get(cifra)\n",
    "                ans += ' тысяч '\n",
    "        elif len(cmd) - i == 3 and cifra != '0': #Если символ занимает третью позицию - то это сотни, для них все случаи уже одинаковые\n",
    "            ans += des3[int(cifra) - 1]+\" \"\n",
    "        elif len(cmd) - i == 2 and cifra != '0': #Если символ занимает вторую позицию - то это десятки, тут уже похуже\n",
    "            if cifra + cmd[i+1] in rev(des1):#Это могут быть как и числа от 10 до 19, их смотрим отдельно и\n",
    "                ans += rev(des1).get(cifra+cmd[i+1]) + \" \"\n",
    "                k = True#Запоминаем что следующую цифру нам смотреть не надо - иначе в ответ бы шло \"одиннадцать один или двенадцать два\"\n",
    "            else:\n",
    "                ans += rev(des2).get(cifra) + \" \" #Если же это десятки от 20 до 90, то тупо их сохраняем в ответ и смотрим на следующее число\n",
    "        elif len(cmd) - i == 1 and not k and cifra != '0': #Тут всё ок, просто берем то число, которое нужно, НО только если флаг всё еще false, иначе число смотреть не надо\n",
    "            ans += rev(ed).get(cifra)\n",
    "\n",
    "    return ans\n",
    "\n",
    "\n",
    "ed = {'ноль': '0', 'один': '1', 'два': '2', 'три': '3', 'четыре': '4', 'пять': '5', 'шесть': '6', 'семь': '7', 'восемь': '8', 'девять': '9'}\n",
    "des1 = {'десять': '10', 'одиннадцать': '11', 'двенадцать': '12', 'тринадцать': '13', 'четырнадцать': '14', 'пятнадцать': '15', 'шестнадцать': '16', 'семнадцать': '17', 'восемнадцать': '18', 'девятнадцать': '19'}\n",
    "des2 = {'двадцать': '2', 'тридцать': '3', 'сорок': '4', 'пятьдесят': '5', 'шестьдесят': '6', 'семьдесят': '7', 'восемьдесят': '8', 'девяносто': '9'}\n",
    "des3 = [\"сто\",\"двести\",\"триста\",\"четыреста\",\"пятьсот\",\"шестьсот\",\"семьсот\",\"восемьсот\",\"девятьсот\"]\n",
    "d = {\"минус\": \"-\", \"плюс\": \"+\", \"умножить\": '*'}\n",
    "\n",
    "s = \"минус девяносто девять умножить на девяносто два плюс двадцать пять\"\n",
    "s = s.strip('\"')\n",
    "s = s.split()\n",
    "print(calc(s))\n"
   ]
  },
  {
   "cell_type": "markdown",
   "metadata": {
    "collapsed": false,
    "jupyter": {
     "outputs_hidden": false
    }
   },
   "source": [
    "На базе этого модуля подготовить скрипт calculate.py со следующими возможностями:\n",
    "1) python calculate.py to_numbers my_file.txt\n",
    "Вызов приводит к преобразованию всех чисел, написанных на русском языке в числовом виде и сохранению изменений в файл с тем же именем.\n",
    "python calculate.py to_numbers my_file.txt my_file_res.txt\n",
    "(результат сохраняется в файл с именем my_file_res.txt)"
   ]
  },
  {
   "cell_type": "code",
   "execution_count": null,
   "metadata": {
    "collapsed": false,
    "jupyter": {
     "outputs_hidden": false
    }
   },
   "outputs": [],
   "source": []
  }
 ],
 "metadata": {
  "colab": {
   "provenance": []
  },
  "kernelspec": {
   "display_name": "Python 3 (ipykernel)",
   "language": "python",
   "name": "python3"
  },
  "language_info": {
   "codemirror_mode": {
    "name": "ipython",
    "version": 3
   },
   "file_extension": ".py",
   "mimetype": "text/x-python",
   "name": "python",
   "nbconvert_exporter": "python",
   "pygments_lexer": "ipython3",
   "version": "3.11.0"
  }
 },
 "nbformat": 4,
 "nbformat_minor": 4
}
