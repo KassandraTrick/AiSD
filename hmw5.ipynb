{
 "cells": [
  {
   "cell_type": "markdown",
   "id": "3c5c7f2c-0d1c-4251-b469-5189e6e05471",
   "metadata": {},
   "source": [
    "4.13) Используюя список l1 создать список, в ктором каждый элемент списка l1 будет заменен значением длинны строки соответствующего элемента в списке l1. Использовать генераторы, решить задачу в одну строку."
   ]
  },
  {
   "cell_type": "code",
   "execution_count": 2,
   "id": "789fcb0e-f6b8-4597-a607-814e519fa849",
   "metadata": {},
   "outputs": [
    {
     "name": "stdout",
     "output_type": "stream",
     "text": [
      "1 3 3 2 1 3\n"
     ]
    }
   ],
   "source": [
    "l1 = ['1', '123', '123', '12', '1', '123']\n",
    "print(*[len(el) for el in l1])"
   ]
  },
  {
   "cell_type": "markdown",
   "id": "4dfff360-95e4-4df6-9ae8-f80a219a79ad",
   "metadata": {},
   "source": [
    "4.14) Подсчитать количество строк в списке l1, длина которых больше 2х. Использовать генераторы, решить задачу в одну строку."
   ]
  },
  {
   "cell_type": "code",
   "execution_count": 11,
   "id": "87f68f9a-765a-45a7-92e6-9a31c69560b5",
   "metadata": {},
   "outputs": [
    {
     "name": "stdout",
     "output_type": "stream",
     "text": [
      "3\n"
     ]
    }
   ],
   "source": [
    "print(len([el for el in l1 if len(el) > 2 ])) "
   ]
  },
  {
   "cell_type": "markdown",
   "id": "79898c87-5f39-48eb-9fce-88ed2b8f176f",
   "metadata": {},
   "source": [
    "4.15) Просуммировать произведение ключей на значения словаря d4."
   ]
  },
  {
   "cell_type": "code",
   "execution_count": 19,
   "id": "b02a1074-e1b4-411f-b3f4-bb885079014a",
   "metadata": {},
   "outputs": [
    {
     "name": "stdout",
     "output_type": "stream",
     "text": [
      "910\n"
     ]
    }
   ],
   "source": [
    "d4 = {1: 10, 2: 20, 3: 30, 4: 40, 5: 50, 6: 60}\n",
    "print(sum((el[0] * el[1] for el in d4.items())))"
   ]
  },
  {
   "cell_type": "markdown",
   "id": "2c09715f-44a9-4afc-bd0a-1b23b377a6ea",
   "metadata": {},
   "source": [
    "4.16) На базе словаря d6 составить словарь d7 в котором нет пар ключ-значение с ключами, встречающимися в словаре d5. Использовать генераторы, решить задачу в одну строку."
   ]
  },
  {
   "cell_type": "code",
   "execution_count": 26,
   "id": "5a4b81fd-299b-467e-b095-30dd93be329f",
   "metadata": {},
   "outputs": [
    {
     "data": {
      "text/plain": [
       "{'h': 23, 'i': 24, 'j': 25, 'k': 26, 'l': 27}"
      ]
     },
     "execution_count": 26,
     "metadata": {},
     "output_type": "execute_result"
    }
   ],
   "source": [
    "d6 = {'e': 20, 'f': 21, 'g': 22, 'h': 23, 'i': 24, 'j': 25, 'k': 26, 'l': 27}\n",
    "d5 = {'a': 3, 'b': 4, 'c': 5, 'd': 6, 'e': 7, 'f': 8, 'g': 9}\n",
    "d7 = {el[0]:el[1] for el in d6.items() if el[0] not in d5.keys()}\n",
    "d7"
   ]
  },
  {
   "cell_type": "markdown",
   "id": "da976b46-1345-473e-a657-7988b651c131",
   "metadata": {},
   "source": [
    "Создать список, в котором все числа списка l2 умножены на их номер в списке, остальные элементы сохранены на своих местах. Использовать генераторы, решить задачу в одну строку."
   ]
  },
  {
   "cell_type": "code",
   "execution_count": 37,
   "id": "0bfc641c-189b-4c87-9da1-7b8e8c80f3d9",
   "metadata": {},
   "outputs": [
    {
     "data": {
      "text/plain": [
       "[2, 8, -6, -12, 0, 66, 14]"
      ]
     },
     "execution_count": 37,
     "metadata": {},
     "output_type": "execute_result"
    }
   ],
   "source": [
    "l2 = [2, 4, -2, -3, 0 , 11 , 3 -1]\n",
    "l3 = [l2[i] * (i+1) for i in range(len(l2))]\n",
    "l3"
   ]
  },
  {
   "cell_type": "markdown",
   "id": "fd8b45d8-8054-4e4a-b2fc-2b1e63a57536",
   "metadata": {},
   "source": [
    " Создать список, в котором все отрицательные числа списка l2 исключены, остальные элементы сохранены на своих местах. Использовать генераторы, решить задачу в одну строку."
   ]
  },
  {
   "cell_type": "code",
   "execution_count": 40,
   "id": "fb6aae6e-089b-492f-8307-8fac883dae1e",
   "metadata": {},
   "outputs": [
    {
     "data": {
      "text/plain": [
       "[2, 4, 0, 11, 2]"
      ]
     },
     "execution_count": 40,
     "metadata": {},
     "output_type": "execute_result"
    }
   ],
   "source": [
    "l4 = [el for el in l2 if el >= 0]\n",
    "l4"
   ]
  },
  {
   "cell_type": "code",
   "execution_count": 43,
   "id": "cc511e14-4a64-494e-a97d-1101545771e8",
   "metadata": {},
   "outputs": [
    {
     "data": {
      "text/plain": [
       "[2, 4, 3, 4, 0, 11, 2]"
      ]
     },
     "execution_count": 43,
     "metadata": {},
     "output_type": "execute_result"
    }
   ],
   "source": [
    "l5 = [(i+1) if l2[i] < 0 else l2[i] for i in range(len(l2))]\n",
    "l5"
   ]
  },
  {
   "cell_type": "code",
   "execution_count": null,
   "id": "cb9bf2b7-700d-4937-8ebe-240e3e358c43",
   "metadata": {},
   "outputs": [],
   "source": []
  }
 ],
 "metadata": {
  "kernelspec": {
   "display_name": "Python 3 (ipykernel)",
   "language": "python",
   "name": "python3"
  },
  "language_info": {
   "codemirror_mode": {
    "name": "ipython",
    "version": 3
   },
   "file_extension": ".py",
   "mimetype": "text/x-python",
   "name": "python",
   "nbconvert_exporter": "python",
   "pygments_lexer": "ipython3",
   "version": "3.11.0"
  }
 },
 "nbformat": 4,
 "nbformat_minor": 5
}
