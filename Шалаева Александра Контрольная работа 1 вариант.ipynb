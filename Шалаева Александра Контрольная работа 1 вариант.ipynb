{
 "cells": [
  {
   "cell_type": "markdown",
   "metadata": {},
   "source": [
    "### Контрольная работа № 1.\n",
    "### Вариант 1.\n",
    "#### Студентка Шалаева Александра Александровна группа ИД23-3"
   ]
  },
  {
   "cell_type": "markdown",
   "metadata": {},
   "source": [
    "1. Создайте класс Length (Длина), имеющий свойства\n",
    "\n",
    "• value (значение),\n",
    "\n",
    "• unit (единица измерения).\n",
    "\n",
    "При изменении единицы измерения значение должно соответственно меняться. Например, при переходе от сантиметров к метрам значение должно уменьшаться в 100 раз. Допустимые значения свойства unit: ‘см’, ‘м’, ‘км’. Организуйте эту проверку. Продемонстрируйте работу с классом."
   ]
  },
  {
   "cell_type": "code",
   "execution_count": 1,
   "metadata": {},
   "outputs": [
    {
     "name": "stdout",
     "output_type": "stream",
     "text": [
      "3.0 км\n",
      "300000.0 см\n",
      "3000.0 м\n"
     ]
    }
   ],
   "source": [
    "class Lenght:\n",
    "    def __init__(self, value=0, unit=''):\n",
    "        self.value = value\n",
    "        self.unit = unit\n",
    "        self.unit_base = {'см': 0.01, 'м': 1, 'км': 1000}\n",
    "\n",
    "    def change_unit(self, new_unit):\n",
    "        if self.unit_base[self.unit] < self.unit_base[new_unit] and new_unit != self.unit:\n",
    "            if new_unit == 'м':\n",
    "                self.value *= self.unit_base[self.unit]\n",
    "                self.unit = new_unit\n",
    "            elif new_unit == 'км':\n",
    "                self.value /= self.unit_base[new_unit]\n",
    "                if self.unit == 'см':\n",
    "                    self.value /= 1000\n",
    "                self.unit = new_unit\n",
    "\n",
    "        elif self.unit_base[self.unit] > self.unit_base[new_unit] and new_unit != self.unit:\n",
    "            if new_unit == 'м':\n",
    "                self.value *= self.unit_base[self.unit]\n",
    "                self.unit = new_unit\n",
    "            elif new_unit == 'см':\n",
    "                self.value /= self.unit_base[new_unit]\n",
    "                if self.unit == 'км':\n",
    "                    self.value *= 1000\n",
    "                self.unit = new_unit\n",
    "\n",
    "        print(self.value, self.unit)\n",
    "\n",
    "s = Lenght(3000, 'м')\n",
    "s.change_unit('км')\n",
    "s.change_unit('см')\n",
    "s.change_unit('м')\n"
   ]
  },
  {
   "cell_type": "markdown",
   "metadata": {},
   "source": [
    "2. Создайте класс Ведомость, имеющий\n",
    "атрибут класса:\n",
    "\n",
    "• список_дисциплин (значением является список с названиями дисциплин);\n",
    "\n",
    "свойства:\n",
    "\n",
    "• дисциплина (при задании значения проверять наличие дисциплины в атрибуте список_дисциплин),\n",
    "\n",
    "• группа;\n",
    "\n",
    "методы:\n",
    "\n",
    "• put – добавляет в ведомость информацию об оценке студента (фамилия, оценка – параметры метода). Для хранения данных внутри класса используйте словарь, в котором ключом является фамилия студента. Возможные оценки – «отлично», «хорошо», «удовл.», «неудовл.», «н/я»;\n",
    "\n",
    "• get – возвращает оценку, полученную студентом (фамилия студента – параметр метода);\n",
    "\n",
    "• change – изменяет оценку, полученную студентом (фамилия студента и новая оценка – параметры метода);\n",
    "\n",
    "• del – удаляет информацию о студенте из ведомости (фамилия студента – параметр метода);\n",
    "\n",
    "• result – возвращает кортеж из 5 чисел (количество каждого вида оценок в ведомости);\n",
    "\n",
    "• __init__ – конструктор;\n",
    "\n",
    "• __str__ – возвращает строку, содержащую заголовки (название экзамена, группа) и результаты экзамена в виде таблицы;\n",
    "\n",
    "• count – возвращает количество студентов в ведомости;\n",
    "\n",
    "• names – возвращает список фамилий, имеющихся в ведомости.\n",
    "\n",
    "Продемонстрируйте работу с классом. \n"
   ]
  },
  {
   "cell_type": "code",
   "execution_count": 2,
   "metadata": {},
   "outputs": [
    {
     "name": "stdout",
     "output_type": "stream",
     "text": [
      "хорошо\n",
      "Дисциплина: Математика,Физика, Группа: Группа А1\n",
      "| Фамилия | Оценка |\n",
      "+---------+--------+\n",
      "| Иванов | удовл. |\n",
      "| Петров | отлично |\n",
      "\n",
      "(1, 0, 1, 0, 0)\n",
      "2\n",
      "['Иванов', 'Петров']\n"
     ]
    }
   ],
   "source": [
    "class statement:\n",
    "\n",
    "    def __init__(self, list_of_disciplines, group):\n",
    "        self.list_of_disciplines = list_of_disciplines\n",
    "        self.group = group\n",
    "        self.marks = {}\n",
    "\n",
    "    def put(self, second_name, mark):\n",
    "        if mark not in [\"отлично\", \"хорошо\", \"удовл.\", \"неудовл.\", \"н/я\"]:\n",
    "            print(\"Некорректная оценка\")\n",
    "            return\n",
    "        self.marks[second_name] = mark\n",
    "\n",
    "    def get(self, second_name):\n",
    "        return self.marks.get(second_name, \"Студент не найден\")\n",
    "\n",
    "    def change(self, second_name, new_mark):\n",
    "        if new_mark not in [\"отлично\", \"хорошо\", \"удовл.\", \"неудовл.\", \"н/я\"]:\n",
    "            print(\"Некорректная оценка\")\n",
    "            return\n",
    "        if second_name in self.marks:\n",
    "            self.marks[second_name] = new_mark\n",
    "        else:\n",
    "            print(\"Студент не найден\")\n",
    "\n",
    "    def del_student(self, second_name):\n",
    "        if second_name in self.marks:\n",
    "            del self.marks[second_name]\n",
    "        else:\n",
    "            print(\"Студент не найден\")\n",
    "\n",
    "    def result(self):\n",
    "        results = {\"отлично\": 0, \"хорошо\": 0, \"удовл.\": 0, \"неудовл.\": 0, \"н/я\": 0}\n",
    "        for mark in self.marks.values():\n",
    "            results[mark] += 1\n",
    "        return tuple(results.values())\n",
    "\n",
    "    def count(self):\n",
    "        return len(self.marks)\n",
    "\n",
    "    def names(self):\n",
    "        return list(self.marks.keys())\n",
    "\n",
    "    def __str__(self):\n",
    "        title = f\"Дисциплина: {','.join(self.list_of_disciplines)}, Группа: {self.group}\\n\"\n",
    "        table_title = \"| Фамилия | Оценка |\\n\"\n",
    "        delimiter = \"+---------+--------+\\n\"\n",
    "        data = \"\"\n",
    "        for студент, оценка in self.marks.items():\n",
    "            data += f\"| {студент} | {оценка} |\\n\"\n",
    "        return title + table_title + delimiter + data\n",
    "\n",
    "\n",
    "# Пример использования класса Ведомость\n",
    "s = statement([\"Математика\", \"Физика\"], \"Группа А1\")\n",
    "s.put(\"Иванов\", \"хорошо\")\n",
    "s.put(\"Петров\", \"отлично\")\n",
    "print(s.get(\"Иванов\"))  # Выведет: хорошо\n",
    "s.change(\"Иванов\", \"удовл.\")\n",
    "print(s)\n",
    "print(s.result())  # Выведет количество каждого вида оценок\n",
    "print(s.count())  # Выведет количество студентов в ведомости\n",
    "print(s.names())  # Выведет список фамилий студентов\n"
   ]
  },
  {
   "cell_type": "markdown",
   "metadata": {},
   "source": [
    "3. Создайте класс Заказ(Order), у которого есть свойства код_товара(code), цена(price), количество(count) и методы __init__ и __str__.\n",
    "\n",
    "Создайте 2 класса-потомка: Опт(Opt) и Розница(Retail).\n",
    "В этих классах создайте методы __init__, __str__.и сумма_заказа(summa), позволяющий узнать стоимость заказа.\n",
    "Для опта стоимость единицы товара составляет 95% от цены, а при покупке более 500 штук – 90% цены.\n",
    "В розницу стоимость единицы товара составляет 100% цены. Стоимость заказа равна произведению цены на количество. \n",
    "\n",
    "Продемонстрируйте работу с классами, создав необходимые объекты и обратившись к их свойствам и методам\n"
   ]
  },
  {
   "cell_type": "code",
   "execution_count": null,
   "metadata": {},
   "outputs": [],
   "source": [
    "class Order:\n",
    "    def __init__(self, code, price, count):\n",
    "        self.code = code\n",
    "        self.price = price\n",
    "        self.count = count\n",
    "\n",
    "    def __str__(self):\n",
    "        return f\"Код товара: {self.code}, Цена: {self.price}, Количество: {self.count}\"\n",
    "\n",
    "\n",
    "class Opt(Order):\n",
    "    def __init__(self, code, price, count):\n",
    "        super().__init__(code, price, count)\n",
    "\n",
    "    def __str__(self):\n",
    "        return f\"Оптовый заказ | {super().__str__()}\"\n",
    "\n",
    "    def summa(self):\n",
    "        if self.count > 500:\n",
    "            return self.price * self.count * 0.9\n",
    "        else:\n",
    "            return self.price * self.count * 0.95\n",
    "\n",
    "\n",
    "class Retail(Order):\n",
    "    def __init__(self, code, price, count):\n",
    "        super().__init__(code, price, count)\n",
    "\n",
    "    def __str__(self):\n",
    "        return f\"Розничный заказ | {super().__str__()}\"\n",
    "\n",
    "    def summa(self):\n",
    "        return self.price * self.count\n",
    "\n",
    "\n",
    "# Пример использования классов\n",
    "order1 = Order(\"A001\", 10, 100)\n",
    "opt_order = Opt(\"B002\", 20, 600)\n",
    "retail_order = Retail(\"C003\", 30, 50)\n",
    "\n",
    "print(order1)\n",
    "print(f\"Сумма заказа: {order1.price * order1.count}\\n\")\n",
    "\n",
    "print(opt_order)\n",
    "print(f\"Сумма заказа (опт): {opt_order.summa()}\\n\")\n",
    "\n",
    "print(retail_order)\n",
    "print(f\"Сумма заказа (розница): {retail_order.summa()}\")\n"
   ]
  },
  {
   "cell_type": "markdown",
   "metadata": {},
   "source": [
    "4. Написать функцию my_func_1(lst), которая переворачивает список вложенных списков с произвольным уровнем вложенности.\n",
    "Любой элемент, не являющийся списком, не должен быть изменен.\n",
    "\n",
    "Примеры, демонстрирующие ожидаемое поведение функции:\n",
    "\n",
    "assert my_func_1(42) == 42\n",
    "\n",
    "assert my_func_1([]) == []\n",
    "\n",
    "assert my_func_1([1, 2]) == [2, 1]\n",
    "\n",
    "assert my_func_1((1, 2)) == (1, 2)\n",
    "\n",
    "assert my_func_1([[1, 2], [3, [4, 5]], 6]) == [6, [[5, 4], 3], [2, 1]]\n",
    "\n",
    "assert my_func_1(['123', '456', '789', {10: [11, 12], 13: 14}, (15, 16)]) == [(15, 16), {10: [11, 12], 13: 14}, '789', '456', '123']\n",
    "\n",
    "assert my_func_1([[[[[1, 2]]]]]) == [[[[[2, 1]]]]]"
   ]
  },
  {
   "cell_type": "code",
   "execution_count": 3,
   "metadata": {},
   "outputs": [
    {
     "name": "stdout",
     "output_type": "stream",
     "text": [
      "[[[[8, 7], 6, 5], 4], [3, 2], 1]\n"
     ]
    }
   ],
   "source": [
    "def my_func_1(lst):\n",
    "    if not isinstance(lst, list):  # Если элемент не является списком, возвращаем его как есть\n",
    "        return lst\n",
    "\n",
    "    for i in range(len(lst)):\n",
    "        if isinstance(lst[i], list):  # Если элемент является списком, рекурсивно переворачиваем его\n",
    "            lst[i] = my_func_1(lst[i])\n",
    "\n",
    "    return lst[::-1]\n",
    "\n",
    "# Пример использования функции\n",
    "nested_list = [1, [2, 3], [4, [5, 6, [7, 8]]]]\n",
    "result = my_func_1(nested_list)\n",
    "print(result)"
   ]
  },
  {
   "cell_type": "markdown",
   "metadata": {},
   "source": [
    "5.При помощи механизма map/filter/reduce возвести в квадрат числа от 1 до 100, и рассчитать их сумму, не включая в сумму числа, кратные 9. Написать реализацию в одну строку."
   ]
  },
  {
   "cell_type": "code",
   "execution_count": null,
   "metadata": {},
   "outputs": [],
   "source": [
    "print(sum(filter(lambda x: x % 9 != 0, map(lambda x: x**2, range(1, 100)))))"
   ]
  }
 ],
 "metadata": {
  "kernelspec": {
   "display_name": "Python 3 (ipykernel)",
   "language": "python",
   "name": "python3"
  },
  "language_info": {
   "codemirror_mode": {
    "name": "ipython",
    "version": 3
   },
   "file_extension": ".py",
   "mimetype": "text/x-python",
   "name": "python",
   "nbconvert_exporter": "python",
   "pygments_lexer": "ipython3",
   "version": "3.9.13"
  }
 },
 "nbformat": 4,
 "nbformat_minor": 4
}
